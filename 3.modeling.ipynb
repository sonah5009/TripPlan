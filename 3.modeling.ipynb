{
 "cells": [
  {
   "cell_type": "code",
   "execution_count": 17,
   "metadata": {},
   "outputs": [],
   "source": [
    "import pandas as pd\n",
    "from openai import OpenAI\n",
    "import os\n",
    "from dotenv import load_dotenv\n",
    "import csv\n",
    "\n",
    "from math import radians, sin, cos, sqrt, atan2\n",
    "import random\n"
   ]
  },
  {
   "cell_type": "markdown",
   "metadata": {},
   "source": [
    "## Failure: GPT prompt engineering"
   ]
  },
  {
   "cell_type": "code",
   "execution_count": 18,
   "metadata": {},
   "outputs": [
    {
     "name": "stdout",
     "output_type": "stream",
     "text": [
      "sk-proj-4WN8zdQt5xC1ajBjhvDoT3BlbkFJ6TlarliMdtBQ268Snowp\n"
     ]
    }
   ],
   "source": [
    "# Load environment variables from .env file\n",
    "load_dotenv()\n",
    "\n",
    "# Access the API key using the variable name defined in the .env file\n",
    "client = OpenAI()\n",
    "client.api_key = os.getenv(\"OPENAI_API_KEY\")\n",
    "print(client.api_key)"
   ]
  },
  {
   "cell_type": "code",
   "execution_count": 28,
   "metadata": {},
   "outputs": [],
   "source": [
    "def read_tourism_spots(csv_file_path):\n",
    "    with open(csv_file_path, 'r', encoding='utf-8') as file:\n",
    "        csv_string = file.read()\n",
    "    return csv_string\n",
    "\n",
    "# CSV 파일 경로 설정\n",
    "csv_file_path = './data/small_set.csv'\n",
    "\n",
    "kr_locations = read_tourism_spots(csv_file_path)"
   ]
  },
  {
   "cell_type": "code",
   "execution_count": 29,
   "metadata": {},
   "outputs": [
    {
     "name": "stdout",
     "output_type": "stream",
     "text": [
      "POI_ID,POI_NM,CTPRVN_NM,SIGNGU_NM,LC_LO,LC_LA\n",
      "7231419,임랑해수욕장,부산광역시,기장군,129.2642611,35.31869433\n",
      "7232777,오이도해양단지,경기도,시흥시,126.6902931,37.34640271\n",
      "16758706,구로시장떡볶이골목,서울특별시,구로구,126.8855426,37.48881811\n",
      "20868088,덕천동젊음의거리,부산광역시,북구,129.0070903,35.20989557\n",
      "21085594,광안리카페거리,부산광역시,수영구,129.1163874,35.15091579\n",
      "21085658,동대문패션타운,서울특별시,중구,127.0086616,37.56866403\n",
      "21085686,을지로타일상가,서울특별시,중구,126.98898,37.56637497\n",
      "21085883,사강회센터,경기도,화성시,126.7362366,37.21304632\n",
      "21086097,까치울음식테마마을,경기도,부천시,126.8138061,37.51514031\n",
      "10592447,신숭겸장군유적지,대구광역시,동구,128.6416639,35.94253672\n",
      "10593745,목포근대역사관,전라남도,목포시,126.382103,34.78754765\n"
     ]
    }
   ],
   "source": [
    "print(kr_locations)"
   ]
  },
  {
   "cell_type": "code",
   "execution_count": 25,
   "metadata": {},
   "outputs": [
    {
     "name": "stdout",
     "output_type": "stream",
     "text": [
      "ChatCompletionMessage(content='Day 1:\\n- Departure Point: Seoul, South Korea\\n- Destination: Busan, South Korea\\n- Travel Time: Approximately 4.5 hours by car\\n- Accommodation: Stay overnight in Busan\\n\\nRoute Plan:\\n1. Depart from Seoul and head south to Busan.\\n2. Visit 고메홈 (Gome Home) in Busan for a famous specialty dish called \"부대찌개 (Budae Jjigae)\" (Military Stew). (Location: 35.162773, 129.063387)\\n3. Explore the beautiful Haeundae Beach in Busan. (Location: 35.159545, 129.160688)\\n4. Enjoy the stunning view of Gwangalli Beach in Busan. (Location: 35.156796, 129.118934)\\n5. Relax at a local cafe at 광안리해변 (Gwangan Beach) with a scenic view. (Location: 35.149974, 129.120256)\\n6. Stay overnight in Busan.\\n\\nDay 2:\\n- Destination: Incheon, South Korea\\n- Travel Time: Approximately 5 hours by car\\n\\nRoute Plan:\\n1. Depart from Busan and head north to Incheon.\\n2. Taste delicious seafood at 송도정 (Songdo Jung) in Incheon. (Location: 37.393604, 126.670979)\\n3. Visit the Songdo Central Park in Incheon. (Location: 37.390335, 126.635659)\\n4. Explore the Songwol-dong Fairy Tale Village in Incheon. (Location: 37.479463, 126.624249)\\n5. Try authentic Korean dishes at 100년식당 (100 Years Restaurant) in Incheon. (Location: 37.468562, 126.633683)\\n6. Stay overnight in Incheon.\\n\\nDay 3:\\n- Destination: Suwon, South Korea\\n- Travel Time: Approximately 1.5 hours by car\\n\\nRoute Plan:\\n1. Depart from Incheon and head to Suwon.\\n2. Visit the Hwaseong Fortress in Suwon. (Location: 37.287628, 127.004374)\\n3. Enjoy traditional Korean street food at 수원인계시장 (Suwon Ingye Market) in Suwon. (Location: 37.272638, 127.003503)\\n4. Try the famous 수원 양꼬치 (Suwon Lamb Skewers) at 양다리양꼬치 (Yangdari Lamb Skewers) restaurant. (Location: 37.278865, 127.005726)\\n5. End the trip by exploring the beautiful Suwon Hwaseong Museum. (Location: 37.277967, 127.023293)\\n\\nThis three-day car trip includes famous specialties, renowned restaurants, and popular tourist attractions in Seoul, Busan, Incheon, and Suwon. Enjoy your journey!', role='assistant', function_call=None, tool_calls=None)\n"
     ]
    }
   ],
   "source": [
    "# GPT-3.5 Turbo API를 사용하여 여행 계획을 생성하는 함수\n",
    "def generate_travel_plan(tourism_spots):\n",
    "    completion = client.chat.completions.create(\n",
    "        temperature=1,\n",
    "        max_tokens=512,\n",
    "        top_p=1,\n",
    "        frequency_penalty=0,\n",
    "        presence_penalty=0\n",
    "        # max_tokens=100,\n",
    "        messages=[\n",
    "        {\"role\": \"system\", \"content\": \"\"\"{}. You are the best travel planner who can efficiently write travel plans. Please provide information about travel routes, tourist attractions (POI_NM), and provinces (CTPRVN_NM). Please arrange travel routes efficiently. Please provide your local names in English (Korean) format. Please include your latitude and longitude locations.\"\"\".format(kr_locations)},\n",
    "        { \"role\": \"user\",  \"content\": \"I'm going to take a three-day car trip. I want to go to restaurants and famous public places during the trip. Please tell me the information on famous specialties and famous restaurants in neighboring cities. Please tell me the name of the province in English (Korean). Please include the location of all places on the latitude and longitude. Please write a route plan by making a departure point, destination, travel time, accommodation, specialty products, restaurant information, tourist destination, etc.\"},\n",
    "        {\"role\": \"assistant\",\"content\": \"Day 1:\\n- Departure Point: Seoul, Seoul Special City (서울특별시)\\n- Destination: Suwon Hwaseong Fortress (수원 화성)\\n  - Travel Time: Approximately 1 hour by car\\n  - Accommodation: Suwon\\n  - Specialty Products: Suwon Tteokgalbi (수원 떡갈비)\\n  - Restaurant Information: Try Suwon Galbi (수원 갈비) for authentic Korean BBQ\\n  - Tourist Destination: Explore Suwon Hwaseong Fortress, a UNESCO World Heritage Site\\n\\nDay 2:\\n- Destination: Incheon Chinatown (인천 차이나타운)\\n  - Travel Time: Approximately 1 hour by car\\n  - Accommodation: Incheon\\n  - Specialty Products: Jajangmyeon (자장면) and Tangsuyuk (탕수육)\\n  - Restaurant Information: Visit Gonghwachun (공화춘) for delicious Korean-Chinese cuisine\\n  - Tourist Destination: Wander around Incheon Chinatown and visit Jayu Park for a scenic view\\n\\nDay 3:\\n- Destination: Ilsan Lake Park (일산호수공원) in Goyang, Gyeonggi Province (경기도 고양시)\\n  - Travel Time: Approximately 1 hour by car\\n  - Specialty Products: Ilsan Omija Tea (일산 오미자차)\\n  - Restaurant Information: Enjoy a meal at Lake Park Sotdae (호수공원 솟대) with a beautiful view of the lake\\n  - Tourist Destination: Relax at Ilsan Lake Park and enjoy the picturesque scenery\\n\\nThis travel plan allows you to explore famous landmarks, enjoy delicious local specialties, and experience the culture of different cities in South Korea. Bon voyage on your three-day car trip!\"},\n",
    "        {\"role\": \"user\",\"content\": \"Departure and Destination: Please write CTPRVN_NM and SIGNGU_NM.\\nTravel Time and Route Plan: Please indicate CTPRVN_NM and POI_NM.\"},\n",
    "        {\"role\": \"assistant\",\"content\": \"Day 1:\\n- Departure Point: Seoul, Seoul Special City (서울특별시)\\n- Destination: Suwon Hwaseong Fortress in Suwon, Gyeonggi Province (수원 화성, 경기도)\\n  - Travel Time: Approximately 1 hour by car\\n  - Route: Seoul Special City (서울특별시) → Suwon, Gyeonggi Province (수원, 경기도)\\n  - Specialty Products: Suwon Tteokgalbi (수원 떡갈비)\\n  - Restaurant Information: Suwon Galbi (수원 갈비)\\n  - Tourist Destination: Suwon Hwaseong Fortress\\n\\nDay 2:\\n- Destination: Incheon Chinatown in Incheon (인천 차이나타운, 인천)\\n  - Travel Time: Approximately 1 hour by car\\n  - Route: Suwon, Gyeonggi Province (수원, 경기도) → Incheon, Incheon (인천, 인천)\\n  - Specialty Products: Jajangmyeon (자장면) and Tangsuyuk (탕수육)\\n  - Restaurant Information: Gonghwachun (공화춘)\\n  - Tourist Destination: Incheon Chinatown and Jayu Park\\n\\nDay 3:\\n- Destination: Ilsan Lake Park in Goyang, Gyeonggi Province (일산호수공원, 경기도 고양시)\\n  - Travel Time: Approximately 1 hour by car\\n  - Route: Incheon, Incheon (인천, 인천) → Goyang, Gyeonggi Province (고양시, 경기도)\\n  - Specialty Products: Ilsan Omija Tea (일산 오미자차)\\n  - Restaurant Information: Lake Park Sotdae (호수공원 솟대)\\n  - Tourist Destination: Ilsan Lake Park\\n\\nEnjoy your trip exploring these beautiful destinations and experiencing the delicious specialties of each region in South Korea!\"},\n",
    "        {\"role\": \"user\",\"content\": \"I'm planning a trip with my elderly parents. They find walking for long periods uncomfortable. We'll be traveling for 4 nights and 5 days. Please provide a detailed travel plan with breaks for rest to ensure my parents' comfort. Recommend accommodations where they can easily move around to the recommended tourist attractions.\"},\n",
    "        {\"role\": \"assistant\",\"content\": \"Day 1:\\n- Departure Point: Busan International Cruise Terminal, Busan Special City (부산광역시)\\n- Destination: Haeundae Beach in Busan, Busan Special City (해운대해수욕장, 부산광역시)\\n  - Travel Time: Approximately 40 minutes by car\\n  - Recommended Accommodation: Beachfront hotel or resort near Haeundae Beach for easy access\\n  - Tourist Destination: Haeundae Beach for a relaxing seaside atmosphere\\n- Rest Break: Relax at the beach and enjoy the ocean breeze\\n\\nDay 2:\\n- Destination: Songdo Beach and Songdo Skywalk in Busan, Busan Special City (송도해수욕장, 부산광역시)\\n  - Travel Time: Approximately 30 minutes by car\\n  - Recommended Accommodation: Hotel with sea view near Songdo Beach for a comfortable stay\\n  - Tourist Destination: Songdo Skywalk for a scenic walk along the coast\\n- Rest Break: Enjoy a leisurely stroll on the Skywalk and take in the panoramic views\\n\\nDay 3:\\n- Destination: Gamcheon Culture Village in Busan, Busan Special City (감천문화마을, 부산광역시)\\n  - Travel Time: Approximately 1 hour by car\\n  - Recommended Accommodation: Hotel with easy access to Gamcheon Culture Village for convenience\\n  - Tourist Destination: Gamcheon Culture Village for colorful houses and art installations\\n- Rest Break: Explore the village at a relaxed pace and sit down to admire the artworks\\n\\nDay 4:\\n- Destination: Gyeongju Historic Areas in Gyeongju, Gyeongsangbuk Province (경주 역사유적지, 경상북도)\\n  - Travel Time: Approximately 2 hours by car\\n  - Recommended Accommodation: Traditional hanok guesthouse in Gyeongju for a cultural experience\\n  - Tourist Destination: Visit Bulguksa Temple (불국사) and Seokguram Grotto (석굴암)\\n- Rest Break: Take breaks between temple visits to rest and enjoy the serene surroundings\\n\\nDay 5:\\n- Destination: Yangdong Folk Village in Gyeongju, Gyeongsangbuk Province (양동마을, 경상북도)\\n \"},\n",
    "        {\n",
    "        \"role\": \"user\",\n",
    "        \"content\": \"If the maximum length is insufficient, please make a plan without the travel time.\"\n",
    "        },\n",
    "        {\n",
    "        \"role\": \"assistant\",\n",
    "        \"content\": \"Day 1:\\n- Departure Point: Busan International Cruise Terminal, Busan Special City (부산광역시)\\n- Destination: Haeundae Beach in Busan, Busan Special City (해운대해수욕장, 부산광역시)\\n  - Recommended Accommodation: Beachfront hotel or resort near Haeundae Beach\\n  - Tourist Destination: Haeundae Beach for a relaxing seaside atmosphere\\n- Rest Break: Relax at the beach and enjoy the ocean breeze\\n\\nDay 2:\\n- Destination: Songdo Beach and Songdo Skywalk in Busan, Busan Special City (송도해수욕장, 부산광역시)\\n  - Recommended Accommodation: Hotel with sea view near Songdo Beach\\n  - Tourist Destination: Songdo Skywalk for a scenic walk along the coast\\n- Rest Break: Enjoy a leisurely stroll on the Skywalk and take in the panoramic views\\n\\nDay 3:\\n- Destination: Gamcheon Culture Village in Busan, Busan Special City (감천문화마을, 부산광역시)\\n  - Recommended Accommodation: Hotel with easy access to Gamcheon Culture Village\\n  - Tourist Destination: Gamcheon Culture Village for colorful houses and art installations\\n- Rest Break: Explore the village at a relaxed pace and sit down to admire the artworks\\n\\nDay 4:\\n- Destination: Gyeongju Historic Areas in Gyeongju, Gyeongsangbuk Province (경주 역사유적지, 경상북도)\\n  - Recommended Accommodation: Traditional hanok guesthouse in Gyeongju\\n  - Tourist Destination: Visit Bulguksa Temple (불국사) and Seokguram Grotto (석굴암)\\n- Rest Break: Take breaks between temple visits to rest and enjoy the serene surroundings\\n\\nDay 5:\\n- Destination: Yangdong Folk Village in Gyeongju, Gyeongsangbuk Province (양동마을, 경상북도)\\n  - Recommended Accommodation: Hotel near Yangdong Folk Village\\n  - Tourist Destination: Explore the traditional hanok houses and cultural heritage\\n- Rest Break: Take breaks while strolling through the village to appreciate the historic architecture.\"\n",
    "        }\n",
    "    ],\n",
    "        stream=False,\n",
    "    )\n",
    "    # 응답에서 생성된 계획 추출\n",
    "    generated_plan = completion.choices[0].message\n",
    "    # print(completion)\n",
    "\n",
    "    return generated_plan\n",
    "\n",
    "# 여행 계획 생성\n",
    "travel_plan = generate_travel_plan(kr_locations)\n",
    "# original_answer = generate_travel_plan(kr_locations)\n",
    "# trabel_plan = original_answer.choices[0].message\n",
    "print(travel_plan)"
   ]
  },
  {
   "cell_type": "code",
   "execution_count": null,
   "metadata": {},
   "outputs": [],
   "source": [
    "# GPT-3.5 Turbo API를 사용하여 여행 계획을 생성하는 함수\n",
    "def generate_travel_plan_user(tourism_spots):\n",
    "    last_assistant_response = \"\"  # 마지막 assistant 응답을 저장할 변수\n",
    "\n",
    "    while True:\n",
    "        user_input = input(\"user: \")  # 사용자 입력 받기\n",
    "        if user_input.lower() == \"exit\":\n",
    "            print(\"End the creation of the travel plan.\")\n",
    "            break  # \"exit\" when user inputs \"exit\"\n",
    "\n",
    "        # 마지막 assistant 응답을 입력\n",
    "        completion = client.chat.completions.create(\n",
    "            temperature=1,\n",
    "            max_tokens=512,\n",
    "            top_p=1,\n",
    "            frequency_penalty=0,\n",
    "            presence_penalty=0\n",
    "            prompt=last_assistant_response + user_input,\n",
    "            stop=[\"user:\", \"assistant:\"],  # assistant의 응답이 끝날 때까지만 생성\n",
    "            stream=False,\n",
    "        )\n",
    "        last_assistant_response = completion.choices[0].text.strip() + \"\\n\"  # assistant의 응답 저장\n",
    "        print(\"assistant:\", last_assistant_response.strip())  # assistant의 응답 출력\n",
    "\n",
    "# generate_travel_plan(tourism_spots)\n"
   ]
  },
  {
   "cell_type": "code",
   "execution_count": 26,
   "metadata": {},
   "outputs": [
    {
     "name": "stdout",
     "output_type": "stream",
     "text": [
      "Day 1:\n",
      "- Departure Point: Seoul, South Korea\n",
      "- Destination: Busan, South Korea\n",
      "- Travel Time: Approximately 4.5 hours by car\n",
      "- Accommodation: Stay overnight in Busan\n",
      "\n",
      "Route Plan:\n",
      "1. Depart from Seoul and head south to Busan.\n",
      "2. Visit 고메홈 (Gome Home) in Busan for a famous specialty dish called \"부대찌개 (Budae Jjigae)\" (Military Stew). (Location: 35.162773, 129.063387)\n",
      "3. Explore the beautiful Haeundae Beach in Busan. (Location: 35.159545, 129.160688)\n",
      "4. Enjoy the stunning view of Gwangalli Beach in Busan. (Location: 35.156796, 129.118934)\n",
      "5. Relax at a local cafe at 광안리해변 (Gwangan Beach) with a scenic view. (Location: 35.149974, 129.120256)\n",
      "6. Stay overnight in Busan.\n",
      "\n",
      "Day 2:\n",
      "- Destination: Incheon, South Korea\n",
      "- Travel Time: Approximately 5 hours by car\n",
      "\n",
      "Route Plan:\n",
      "1. Depart from Busan and head north to Incheon.\n",
      "2. Taste delicious seafood at 송도정 (Songdo Jung) in Incheon. (Location: 37.393604, 126.670979)\n",
      "3. Visit the Songdo Central Park in Incheon. (Location: 37.390335, 126.635659)\n",
      "4. Explore the Songwol-dong Fairy Tale Village in Incheon. (Location: 37.479463, 126.624249)\n",
      "5. Try authentic Korean dishes at 100년식당 (100 Years Restaurant) in Incheon. (Location: 37.468562, 126.633683)\n",
      "6. Stay overnight in Incheon.\n",
      "\n",
      "Day 3:\n",
      "- Destination: Suwon, South Korea\n",
      "- Travel Time: Approximately 1.5 hours by car\n",
      "\n",
      "Route Plan:\n",
      "1. Depart from Incheon and head to Suwon.\n",
      "2. Visit the Hwaseong Fortress in Suwon. (Location: 37.287628, 127.004374)\n",
      "3. Enjoy traditional Korean street food at 수원인계시장 (Suwon Ingye Market) in Suwon. (Location: 37.272638, 127.003503)\n",
      "4. Try the famous 수원 양꼬치 (Suwon Lamb Skewers) at 양다리양꼬치 (Yangdari Lamb Skewers) restaurant. (Location: 37.278865, 127.005726)\n",
      "5. End the trip by exploring the beautiful Suwon Hwaseong Museum. (Location: 37.277967, 127.023293)\n",
      "\n",
      "This three-day car trip includes famous specialties, renowned restaurants, and popular tourist attractions in Seoul, Busan, Incheon, and Suwon. Enjoy your journey!\n"
     ]
    }
   ],
   "source": [
    "print(travel_plan.content)"
   ]
  },
  {
   "cell_type": "markdown",
   "metadata": {},
   "source": [
    "위도 경도: LC_LO,LC_LA\n",
    "POI_NM: 무슨 거리/골목"
   ]
  },
  {
   "cell_type": "markdown",
   "metadata": {},
   "source": [
    "## 냐옹"
   ]
  },
  {
   "cell_type": "code",
   "execution_count": 23,
   "metadata": {},
   "outputs": [],
   "source": [
    "df = pd.read_csv('./data/small_set.csv')"
   ]
  },
  {
   "cell_type": "code",
   "execution_count": 24,
   "metadata": {},
   "outputs": [
    {
     "name": "stdout",
     "output_type": "stream",
     "text": [
      "최적의 동선에 따른 관광지 출력:\n",
      "POI_ID: 1, POI_NM: 오이도해양단지, CTPRVN_NM: 경기도\n",
      "POI_ID: 2, POI_NM: 구로시장떡볶이골목, CTPRVN_NM: 서울특별시\n",
      "POI_ID: 5, POI_NM: 동대문패션타운, CTPRVN_NM: 서울특별시\n",
      "POI_ID: 0, POI_NM: 임랑해수욕장, CTPRVN_NM: 부산광역시\n",
      "POI_ID: 4, POI_NM: 광안리카페거리, CTPRVN_NM: 부산광역시\n",
      "POI_ID: 8, POI_NM: 까치울음식테마마을, CTPRVN_NM: 경기도\n",
      "최단 이동 거리: 387.0671941845251\n"
     ]
    }
   ],
   "source": [
    "def calculate_distance(lat1, lon1, lat2, lon2):\n",
    "    # 지구의 반지름 (단위: km)\n",
    "    R = 6371.0\n",
    "\n",
    "    # 위도 및 경도를 라디안으로 변환\n",
    "    lat1 = radians(lat1)\n",
    "    lon1 = radians(lon1)\n",
    "    lat2 = radians(lat2)\n",
    "    lon2 = radians(lon2)\n",
    "\n",
    "    # Haversine 공식 적용\n",
    "    dlon = lon2 - lon1\n",
    "    dlat = lat2 - lat1\n",
    "    a = sin(dlat / 2)**2 + cos(lat1) * cos(lat2) * sin(dlon / 2)**2\n",
    "    c = 2 * atan2(sqrt(a), sqrt(1 - a))\n",
    "    distance = R * c\n",
    "\n",
    "    return distance\n",
    "\n",
    "def calculate_distances(locations):\n",
    "    distances = []\n",
    "\n",
    "    # 관광지의 개수만큼 반복하여 거리를 계산합니다.\n",
    "    for i in range(len(locations) - 1):\n",
    "        lat1, lon1 = locations.iloc[i]['LC_LA'], locations.iloc[i]['LC_LO']\n",
    "        lat2, lon2 = locations.iloc[i + 1]['LC_LA'], locations.iloc[i + 1]['LC_LO']\n",
    "\n",
    "        # 거리 계산 함수 호출\n",
    "        distance = calculate_distance(lat1, lon1, lat2, lon2)\n",
    "        distances.append(distance)\n",
    "\n",
    "    return distances\n",
    "\n",
    "# 최적의 동선을 찾는 함수\n",
    "def find_optimal_route(locations):\n",
    "    # 모든 가능한 순열을 생성하고 가장 짧은 거리를 가진 순열을 찾습니다.\n",
    "    from itertools import permutations\n",
    "    \n",
    "    min_distance = float('inf')\n",
    "    optimal_route = None\n",
    "\n",
    "    # 순열 생성\n",
    "    for perm in permutations(locations.index):\n",
    "        perm_locations = locations.loc[list(perm)]\n",
    "        distances = calculate_distances(perm_locations)\n",
    "        total_distance = sum(distances)\n",
    "\n",
    "        # 현재 순열의 거리가 최소 거리보다 작으면 갱신합니다.\n",
    "        if total_distance < min_distance:\n",
    "            min_distance = total_distance\n",
    "            optimal_route = perm\n",
    "\n",
    "    return optimal_route, min_distance\n",
    "\n",
    "# 선택된 관광지 출력\n",
    "# 선택된 관광지 출력\n",
    "def print_selected_locations(selected_locations):\n",
    "    for idx, row in selected_locations.iterrows():\n",
    "        print(f\"POI_ID: {idx}, POI_NM: {row['POI_NM']}, CTPRVN_NM: {row['CTPRVN_NM']}\")\n",
    "\n",
    "selected_locations = df.sample(n=6)\n",
    "# 최적의 동선 찾기\n",
    "optimal_route, min_distance = find_optimal_route(selected_locations)\n",
    "\n",
    "# 최적의 동선에 따른 관광지 출력\n",
    "print(\"최적의 동선에 따른 관광지 출력:\")\n",
    "print_selected_locations(selected_locations)\n",
    "\n",
    "# 결과 출력\n",
    "print(\"최단 이동 거리:\", min_distance)\n",
    "\n",
    "\n",
    "# optimal_route, min_distance = find_optimal_route(selected_locations)\n",
    "\n",
    "\n",
    "\n",
    "# # 결과 출력\n",
    "# print(\"최적의 동선:\", optimal_route)\n",
    "# print(\"최단 이동 거리:\", min_distance)\n"
   ]
  },
  {
   "cell_type": "code",
   "execution_count": null,
   "metadata": {},
   "outputs": [],
   "source": []
  }
 ],
 "metadata": {
  "kernelspec": {
   "display_name": "base",
   "language": "python",
   "name": "python3"
  },
  "language_info": {
   "codemirror_mode": {
    "name": "ipython",
    "version": 3
   },
   "file_extension": ".py",
   "mimetype": "text/x-python",
   "name": "python",
   "nbconvert_exporter": "python",
   "pygments_lexer": "ipython3",
   "version": "3.11.8"
  }
 },
 "nbformat": 4,
 "nbformat_minor": 2
}
