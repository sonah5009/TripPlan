{
 "cells": [
  {
   "attachments": {},
   "cell_type": "markdown",
   "metadata": {},
   "source": [
    "# chatbot \"Korean Trip Planner\"\n",
    "\"**Korean Trip Planner**\" sets up a day-by-day trip to Korea"
   ]
  },
  {
   "cell_type": "code",
   "execution_count": null,
   "metadata": {},
   "outputs": [],
   "source": [
    "from chatbot.chatbot import Chatbot"
   ]
  },
  {
   "cell_type": "code",
   "execution_count": null,
   "metadata": {},
   "outputs": [],
   "source": [
    "import uuid\n",
    "import time"
   ]
  },
  {
   "cell_type": "code",
   "execution_count": null,
   "metadata": {},
   "outputs": [],
   "source": [
    "import csv\n",
    "import pandas as pd"
   ]
  },
  {
   "cell_type": "markdown",
   "metadata": {},
   "source": [
    "## Read korea tourist information csv file"
   ]
  },
  {
   "cell_type": "code",
   "execution_count": null,
   "metadata": {},
   "outputs": [],
   "source": [
    "def read_tourism_spots(csv_file_path):\n",
    "    with open(csv_file_path, 'r', encoding='utf-8') as file:\n",
    "        csv_string = file.read()\n",
    "    return csv_string\n",
    "\n",
    "csv_file_path = './data/test_set.csv'\n",
    "\n",
    "test_set_locations = read_tourism_spots(csv_file_path)"
   ]
  },
  {
   "cell_type": "code",
   "execution_count": null,
   "metadata": {},
   "outputs": [],
   "source": [
    "test_set_locations"
   ]
  },
  {
   "cell_type": "code",
   "execution_count": 9,
   "metadata": {},
   "outputs": [],
   "source": [
    "# role - system instance_context\n",
    "type_role = \"You are the best travel planner who can make efficient travel plans. You make plans that are more efficient and readable than anyone else.\"\n",
    "\n",
    "# ? - system type_role\n",
    "instance_context = \"\"\"\n",
    "See this desciption:\\n{}.\\nPlease write based on the description.\n",
    "You are the best travel planner who can make efficient travel plans.\n",
    "<p>When responding:</p>\n",
    "<ul>\n",
    "    <li>Please provide information on the travel route, tourist destination (POI_NM), and province (CTPRVN_NM).</li>\n",
    "    <li>When planning the order of my travel destinations, avoid backtracking between cities. For example, It's better to visit places in Seoul, then move on to destinations in Gyeonggi-do, and finally visit attractions in Busan.</li>\n",
    "    <li>Please fill out three tourist attractions in Korean and English per day.</li>\n",
    "    <li>Always incorporate emojis when apt. 😊</li>\n",
    "    <li>Make sure that the answers are complete and consise, without ending with a colon or '... following:'</li>\n",
    "    <li>Make use of <b>&lt;ol&gt;/&lt;ul&gt;</b> with <b>&lt;li&gt;</b> to present any list-like information, even if brief.</li>\n",
    "    <li>Whenever there's an opportunity to provide more than one piece of information or feedback, split them into multiple <b>&lt;p&gt;</b> elements for better clarity.</li>\n",
    "    <li>Always format responses using valid HTML: e.g., <b>&lt;p&gt;</b> for paragraphs, <b>&lt;ul&gt;/&lt;ol&gt;</b> with <b>&lt;li&gt;</b> for lists, and <b>&lt;b&gt;</b> for emphasis or tourist attractions.</li>\n",
    "    <li>Maintain a nihilistic humorous tone. Keep it brief, but don't sacrifice clarity for brevity.</li>\n",
    "    <li>Please organize your travel route efficiently considering latitude (LC_LA) longitude (LC_LO) and order the same CTPRVN_NM value.</li>\n",
    "</ul>\n",
    "<p>Example response</p>\n",
    "Day 1:<br />\n",
    "<ul>\n",
    "    <li><b>서울숲은행나무길 (Seoul Forest Ginkgo Tree Road)</b> in Seoul</li>\n",
    "    <li><b>청계천 (Cheonggyecheon Stream)</b> in Seoul</li>\n",
    "    <li><b>명동거리 (Myeongdong Street)</b> in Seoul</li>\n",
    "</ul>\n",
    "\n",
    "Day 2:<br />\n",
    "<ul>\n",
    "    <li><b>남산공원남산케이블카 (Namsan Park Namsan Cable Car)</b> in Seoul</li>\n",
    "    <li><b>북창동먹자골목 (Bukchang-dong Food Alley)</b> in Seoul</li>\n",
    "    <li><b>한국인삼주마을 (Korean Ginseng Village)</b> in Gyeonggi Province</li>\n",
    "</ul>\n",
    "\n",
    "Day 3:<br />\n",
    "<ul>\n",
    "    <li><b>안성다문화마을특구 (Anseong Damunhwa Village Special District)</b> in Gyeonggi Province</li>\n",
    "    <li><b>의정부부대찌개거리 (Uijeongbu Army Stew Alley)</b> in Gyeonggi Province</li>\n",
    "    <li><b>용문산토속음식마을 (Yongmun Mountain Traditional Food Village)</b> in Gyeonggi Province</li>\n",
    "</ul>\n",
    "Enjoy your trip and make wonderful memories in Korea! 😊🇰🇷\n",
    "\n",
    "Don't forget always using valid HTML tags espacially, avoid backtracking and make efficient movements<br />\n",
    "\"\"\".format(test_set_locations)\n",
    "\n",
    "# user\n",
    "# instance_starter = \"Make a plan for a trip in Korea.\"\n",
    "instance_starter = \"As a Korean trip planner, write one very short message to use at the beginning of the conversation in English\""
   ]
  },
  {
   "cell_type": "code",
   "execution_count": 10,
   "metadata": {},
   "outputs": [
    {
     "name": "stdout",
     "output_type": "stream",
     "text": [
      "[\"Hello! Ready to explore the best of South Korea with efficient travel plans? Let's make the most of your trip! 😊🇰🇷\"]\n",
      "[\"Welcome to your ultimate Korean travel adventure! Let's plan an amazing trip together. 🇰🇷✈️🌏\"]\n",
      "[\"Welcome, adventurous traveler! Let's plan your exciting journey through Korea together! 🇰🇷✈️\"]\n",
      "[\"Welcome to your exciting Korean adventure! 🇰🇷✈️🌏 Let's plan an amazing trip together!\"]\n",
      "successful: 4, failed: 0\n"
     ]
    }
   ],
   "source": [
    "\n",
    "# Amount of instances to be created\n",
    "number_of_instances = 4\n",
    "\n",
    "# Change the following to a list of hardcoded instance IDs if you want to use existing users.\n",
    "user_ids = [str(uuid.uuid4()) for _ in range(number_of_instances)]\n",
    "\n",
    "c  = 0 # counter for successful requests, don't change\n",
    "error_c = 0 # counter for failed requests, don't change\n",
    "for user_id in user_ids:\n",
    "    bot = Chatbot(\n",
    "        database_file=\"database/chatbot.db\", \n",
    "        type_id=\"zhfldk82\", # Korean Trip Planner\n",
    "        user_id=user_id,\n",
    "        type_name=\"Korean Trip Planner\",\n",
    "        type_role=type_role,\n",
    "        instance_context=instance_context,\n",
    "        instance_starter=instance_starter\n",
    "    )\n",
    "    try:\n",
    "        # each bot should have a first message to the user\n",
    "        print(bot.start())\n",
    "    except:\n",
    "        error_c += 1\n",
    "        continue\n",
    "    c+=1\n",
    "    time.sleep(15) #openai seems to produce more errors if we send the requests too fast.\n",
    "    \n",
    "print(\"successful: {}, failed: {}\".format(c, error_c))\n"
   ]
  },
  {
   "cell_type": "markdown",
   "metadata": {},
   "source": [
    "##### Obtain URLs of all instances of a type"
   ]
  },
  {
   "cell_type": "code",
   "execution_count": 15,
   "metadata": {},
   "outputs": [
    {
     "name": "stdout",
     "output_type": "stream",
     "text": [
      "['32ce8010-83fb-435a-86e8-a7d0291806df', '3353a16a-3c8b-4f8a-80f7-152826b282f6', '8f481601-66ce-4f81-810b-fad14db3dc73', 'b51c6482-ee04-4293-9f70-fb3b4d358aa1', 'd4ae3edb-a913-42ae-bb79-7375955e2bc9']\n"
     ]
    }
   ],
   "source": [
    "import sqlite3\n",
    "\n",
    "# Connect to the SQLite database\n",
    "conn = sqlite3.connect('./database/chatbot.db')\n",
    "cursor = conn.cursor()\n",
    "\n",
    "# Execute the query to select all values from the user column\n",
    "cursor.execute('SELECT user FROM chatbot_instances')\n",
    "\n",
    "# Fetch all results\n",
    "users_ids = cursor.fetchall()\n",
    "\n",
    "# Close the connection\n",
    "conn.close()\n",
    "\n",
    "# Check if users_ids is not empty before further processing\n",
    "if users_ids:\n",
    "    # Extract user IDs from the list of tuples\n",
    "    users_ids = [user_id[0] for user_id in users_ids]\n",
    "    print(users_ids)\n",
    "else:\n",
    "    print(\"No user IDs found.\")\n"
   ]
  },
  {
   "cell_type": "code",
   "execution_count": 16,
   "metadata": {},
   "outputs": [
    {
     "name": "stdout",
     "output_type": "stream",
     "text": [
      "http://127.0.0.1:5000/zhfldk82/32ce8010-83fb-435a-86e8-a7d0291806df/chat\n",
      "http://127.0.0.1:5000/zhfldk82/3353a16a-3c8b-4f8a-80f7-152826b282f6/chat\n",
      "http://127.0.0.1:5000/zhfldk82/8f481601-66ce-4f81-810b-fad14db3dc73/chat\n",
      "http://127.0.0.1:5000/zhfldk82/b51c6482-ee04-4293-9f70-fb3b4d358aa1/chat\n",
      "http://127.0.0.1:5000/zhfldk82/d4ae3edb-a913-42ae-bb79-7375955e2bc9/chat\n",
      "\n",
      "https://choesun1zhaw.pythonanywhere.com/zhfldk82/32ce8010-83fb-435a-86e8-a7d0291806df/chat\n",
      "https://choesun1zhaw.pythonanywhere.com/zhfldk82/3353a16a-3c8b-4f8a-80f7-152826b282f6/chat\n",
      "https://choesun1zhaw.pythonanywhere.com/zhfldk82/8f481601-66ce-4f81-810b-fad14db3dc73/chat\n",
      "https://choesun1zhaw.pythonanywhere.com/zhfldk82/b51c6482-ee04-4293-9f70-fb3b4d358aa1/chat\n",
      "https://choesun1zhaw.pythonanywhere.com/zhfldk82/d4ae3edb-a913-42ae-bb79-7375955e2bc9/chat\n"
     ]
    }
   ],
   "source": [
    "# pythonanywhere_username = \"choesun1zhaw\"\n",
    "\n",
    "type_id = \"zhfldk82\" # Korean Trip Planner\n",
    "DEFAULT_URL = \"127.0.0.1:5000\"\n",
    "\n",
    "# local url\n",
    "for user_id in users_ids:\n",
    "    print(\"http://{}/{}/{}/chat\".format(DEFAULT_URL, type_id, user_id))\n",
    "print()\n",
    "\n",
    "# # pythonanywhere url\n",
    "# for user_id in users_ids:\n",
    "#     print(\"https://{}.pythonanywhere.com/{}/{}/chat\".format(pythonanywhere_username, type_id, user_id))"
   ]
  },
  {
   "cell_type": "markdown",
   "metadata": {},
   "source": [
    "### the link of survay"
   ]
  },
  {
   "cell_type": "markdown",
   "metadata": {},
   "source": [
    "\n",
    "https://choesun1zhaw.pythonanywhere.com/zhfldk82/32ce8010-83fb-435a-86e8-a7d0291806df/chat  \n",
    "https://choesun1zhaw.pythonanywhere.com/zhfldk82/3353a16a-3c8b-4f8a-80f7-152826b282f6/chat  \n",
    "https://choesun1zhaw.pythonanywhere.com/zhfldk82/8f481601-66ce-4f81-810b-fad14db3dc73/chat  \n",
    "https://choesun1zhaw.pythonanywhere.com/zhfldk82/b51c6482-ee04-4293-9f70-fb3b4d358aa1/chat  "
   ]
  }
 ],
 "metadata": {
  "kernelspec": {
   "display_name": "Python 3",
   "language": "python",
   "name": "python3"
  },
  "language_info": {
   "codemirror_mode": {
    "name": "ipython",
    "version": 3
   },
   "file_extension": ".py",
   "mimetype": "text/x-python",
   "name": "python",
   "nbconvert_exporter": "python",
   "pygments_lexer": "ipython3",
   "version": "3.10.5"
  },
  "orig_nbformat": 4
 },
 "nbformat": 4,
 "nbformat_minor": 2
}
