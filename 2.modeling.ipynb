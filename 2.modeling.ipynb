{
 "cells": [
  {
   "cell_type": "code",
   "execution_count": 9,
   "metadata": {},
   "outputs": [],
   "source": [
    "import pandas as pd\n",
    "from openai import OpenAI\n",
    "import os\n",
    "from dotenv import load_dotenv\n",
    "import csv\n",
    "\n",
    "import markdown2\n",
    "import re"
   ]
  },
  {
   "cell_type": "markdown",
   "metadata": {},
   "source": [
    "## GPT prompt engineering"
   ]
  },
  {
   "cell_type": "code",
   "execution_count": null,
   "metadata": {},
   "outputs": [],
   "source": [
    "# Load environment variables from .env file\n",
    "load_dotenv()\n",
    "\n",
    "# Access the API key using the variable name defined in the .env file\n",
    "client = OpenAI()\n",
    "client.api_key = os.getenv(\"OPENAI_API_KEY\")\n",
    "print(client.api_key)"
   ]
  },
  {
   "cell_type": "code",
   "execution_count": 3,
   "metadata": {},
   "outputs": [],
   "source": [
    "def read_tourism_spots(csv_file_path):\n",
    "    with open(csv_file_path, 'r', encoding='utf-8') as file:\n",
    "        csv_string = file.read()\n",
    "    return csv_string\n",
    "\n",
    "# CSV 파일 경로 설정\n",
    "csv_file_path = './data/small_set.csv'\n",
    "\n",
    "kr_locations = read_tourism_spots(csv_file_path)"
   ]
  },
  {
   "cell_type": "code",
   "execution_count": 4,
   "metadata": {},
   "outputs": [
    {
     "name": "stdout",
     "output_type": "stream",
     "text": [
      "POI_ID,POI_NM,CTPRVN_NM,SIGNGU_NM,LEGALDONG_NM,LC_LO,LC_LA\n",
      "7231419,임랑해수욕장,부산광역시,기장군,장안읍,129.2642611,35.31869433\n",
      "7232777,오이도해양단지,경기도,시흥시,정왕동,126.6902931,37.34640271\n",
      "11324755,광안리카페거리,부산광역시,수영구,민락동,129.1213895,35.15521088\n",
      "16758706,구로시장떡볶이골목,서울특별시,구로구,구로동,126.8855426,37.48881811\n",
      "20868088,덕천동젊음의거리,부산광역시,북구,덕천동,129.0070903,35.20989557\n",
      "21085658,동대문패션타운,서울특별시,중구,을지로6가,127.0086616,37.56866403\n",
      "21085686,을지로타일상가,서울특별시,중구,을지로2가,126.98898,37.56637497\n",
      "21085883,사강회센터,경기도,화성시,송산면,126.7362366,37.21304632\n",
      "21086097,까치울음식테마마을,경기도,부천시,작동,126.8138061,37.51514031\n",
      "\n"
     ]
    }
   ],
   "source": [
    "print(kr_locations)"
   ]
  },
  {
   "cell_type": "markdown",
   "metadata": {},
   "source": [
    "## The first analysis"
   ]
  },
  {
   "cell_type": "code",
   "execution_count": 5,
   "metadata": {},
   "outputs": [],
   "source": [
    "# prompt engineering depends on the system's content\n",
    "system_cont_ls = [\"You are the best travel planner who can make efficient travel plans.\\nPlease write based on the data I presented.\", \n",
    "\"You are the best travel planner who can make efficient travel plans.\\nPlease write based on the data I presented.\\nPlease provide information on the travel route, tourist destination (POI_NM), and province (CTPRVN_NM).\",\n",
    "\"You are the best travel planner who can make efficient travel plans.\\nPlease write based on the data I presented.\\nPlease provide information on the travel route, tourist destination (POI_NM), and province (CTPRVN_NM).\\nPlease organize your travel route efficiently considering latitude (LC_LA) longitude (LC_LO).\",\n",
    "\"You are the best travel planner who can make efficient travel plans.\\nPlease write based on the data I presented.\\nPlease provide information on the travel route, tourist destination (POI_NM), and province (CTPRVN_NM).\\nPlease organize your travel route efficiently considering latitude (LC_LA) longitude (LC_LO).\\nPlease provide the name of your area in English (Korean). The basic number of travel days is 2 days.\",\n",
    "\"You are the best travel planner who can make efficient travel plans.\\nPlease write based on the data I presented.\\nPlease provide information on the travel route, tourist destination (POI_NM), and province (CTPRVN_NM).\\nPlease organize your travel route efficiently considering latitude (LC_LA) longitude (LC_LO).\\nPlease provide the name of your area in English (Korean). The basic number of travel days is 2 days.\\nIf the maximum length is insufficient, please include only POI_NM, CTPRVN_NM by day.\",\n",
    "\"You are the best travel planner who can make efficient travel plans.\\nPlease write based on the data I presented.\\nPlease provide information on the travel route, tourist destination (POI_NM), and province (CTPRVN_NM).\\nPlease organize your travel route efficiently considering latitude (LC_LA) longitude (LC_LO).\\nPlease provide the name of your area in English (Korean). The basic number of travel days is 2 days.\\nIf the maximum length is insufficient, please include only POI_NM, CTPRVN_NM by day.\\nDon't include the explain.\"]\n",
    "\n",
    "user_cont_ls = [\"Make a plan for a trip to the sea in Korea.\"\n",
    "                , \"I want to find out about Korean fashion.\"\n",
    "                , \"Make travel plans for restaurants\"\n",
    "                , \"I want to go to historical places\"\n",
    "                , \"I want to travel on sidewalks as much as possible.\"\n",
    "                , \"I want to go to different regions.\"\n",
    "                , \"I'm interested in places related to food. I'm going to stay in Seoul. Please recommend places and attractions around me.\"\n",
    "                , \"I am interested in Korean fashion street and history.\"\n",
    "                , \"I'm planning a trip with my elderly parents. I'm planning to travel for 3 days. Please write a travel plan that I can travel comfortably.\"]"
   ]
  },
  {
   "cell_type": "code",
   "execution_count": 6,
   "metadata": {},
   "outputs": [],
   "source": [
    "# GPT-3.5 Turbo API를 사용하여 여행 계획을 생성하는 함수\n",
    "def generate_travel_plan(tourism_spots, sys_cont, user_cont):\n",
    "\n",
    "    completion = client.chat.completions.create(\n",
    "        model=\"gpt-3.5-turbo\",\n",
    "        temperature=1,\n",
    "        max_tokens=512,\n",
    "        top_p=0.7,\n",
    "        frequency_penalty=0,\n",
    "        presence_penalty=0,\n",
    "        messages=[\n",
    "            { \"role\": \"system\", \"content\": \"\"\"See Korea tourist attraction:\\n{}. {}\"\"\".format(tourism_spots, sys_cont)},\n",
    "            { \"role\": \"user\",  \"content\": f\"{user_cont}\"},\n",
    "        ],\n",
    "        stream=False,\n",
    "    )\n",
    "    # 응답에서 생성된 계획 추출\n",
    "    generated_plan = completion.choices[0].message\n",
    "\n",
    "    return generated_plan"
   ]
  },
  {
   "cell_type": "code",
   "execution_count": 7,
   "metadata": {},
   "outputs": [],
   "source": [
    "assistant_answer_ls = []\n",
    "for i in range(len(system_cont_ls)):\n",
    "    travel_plan = generate_travel_plan(kr_locations, system_cont_ls[i], user_cont_ls[0]).content\n",
    "    assistant_answer_ls.append(travel_plan) # save the anwers"
   ]
  },
  {
   "cell_type": "code",
   "execution_count": null,
   "metadata": {},
   "outputs": [],
   "source": [
    "j=0\n",
    "for i in assistant_answer_ls:\n",
    "    print(f'system {j+1}:  \\n{system_cont_ls[j]}\\n')\n",
    "    print(f'answer {j+1}:  \\n{i}')\n",
    "    j+=1\n",
    "    print(\"\\n------------------------------------------------------------------------------------------------\\n\")"
   ]
  },
  {
   "cell_type": "code",
   "execution_count": 9,
   "metadata": {},
   "outputs": [],
   "source": [
    "with open(\"./html/travel_plans_v1.html\", \"w\", encoding=\"utf-8\") as file:\n",
    "# with open(\"./html/travel_plans_v2.html\", \"w\", encoding=\"utf-8\") as file:\n",
    "    file.write(\"<html>\\n<head>\\n<title>The First: Travel Plans</title>\\n</head>\\n<body>\\n\")\n",
    "    j = 0\n",
    "    for i in assistant_answer_ls:\n",
    "        i_with_line_break = re.sub(r'\\n\\s*-', '<br> -', i)\n",
    "        i_with_line_break = re.sub(r'(\\d+)\\. ', r'\\n\\1. ', i_with_line_break)\n",
    "        \n",
    "        html_content = markdown2.markdown(i_with_line_break)\n",
    "        \n",
    "        file.write(f\"<h3>System {j+1}</h3>\\n{(system_cont_ls[j])}\\n\")\n",
    "        file.write(f\"<h2>Answer {j+1}</h2>\\n{html_content}\\n<hr>\\n\")\n",
    "        j += 1\n",
    "    file.write(\"</body>\\n</html>\")\n"
   ]
  },
  {
   "cell_type": "markdown",
   "metadata": {},
   "source": [
    "## The second analysis"
   ]
  },
  {
   "cell_type": "code",
   "execution_count": 4,
   "metadata": {},
   "outputs": [],
   "source": [
    "test_set_locations = read_tourism_spots(\"./data/test_set.csv\")"
   ]
  },
  {
   "cell_type": "code",
   "execution_count": 5,
   "metadata": {},
   "outputs": [],
   "source": [
    "improve_system_v1 = \"You are the best travel planner who can make efficient travel plans.\\nPlease write based on the data I presented.\\nPlease provide information on the travel route, tourist destination (POI_NM), and province (CTPRVN_NM).\\nthe name of tourist destination(POI_NM) and write it by Day.\\nWrite it by Day.\\nPlease organize your travel route efficiently considering latitude (LC_LA) longitude (LC_LO).\"\n",
    "improve_system_v2 = \"You are the best travel planner who can make efficient travel plans. Please write based on the data I presented. Please provide information on the travel route, tourist destination (POI_NM), and province (CTPRVN_NM). Write it by Day including 3 tourist destination in english and korea. Please organize your travel route efficiently considering latitude (LC_LA) longitude (LC_LO).\"\n",
    "improve_system_v3 = \"You are the best travel planner who can make efficient travel plans. Please write based on the data I presented. Please provide information on the travel route, tourist destination (POI_NM), and province (CTPRVN_NM). Please write in a readable manner, including three tourist attractions per day in English and Korean. Please organize your travel route efficiently considering latitude (LC_LA) longitude (LC_LO).\"\n",
    "improve_system_v4 = \"You are the best travel planner who can make efficient travel plans. Please write based on the data I presented. Please provide information on the travel route, tourist destination (POI_NM), and province (CTPRVN_NM). Please fill out three tourist attractions per day in English and Korean. Write the tourist attractions in bold font. Please organize your travel route efficiently considering latitude (LC_LA) longitude (LC_LO).\"\n",
    "improve_system_v5 = \"You are the best travel planner who can make efficient travel plans. Please write based on the data I presented. Please provide information on the travel route, tourist destination (POI_NM), and province (CTPRVN_NM). Please fill out three tourist attractions in English and Korean per day. Write the tourist attractions in bold font. Please organize your travel route efficiently considering latitude (LC_LA) longitude (LC_LO).\""
   ]
  },
  {
   "cell_type": "code",
   "execution_count": 11,
   "metadata": {},
   "outputs": [],
   "source": [
    "def generate_improve_travel_plan(tourism_spots, sys_cont, user_cont):\n",
    "\n",
    "    completion = client.chat.completions.create(\n",
    "        model=\"gpt-3.5-turbo\",\n",
    "        temperature=1,\n",
    "        max_tokens=512,\n",
    "        top_p=0.7,\n",
    "        frequency_penalty=0,\n",
    "        presence_penalty=0,\n",
    "        messages=[\n",
    "            { \"role\": \"system\", \"content\": \"\"\"See this desciption:\\n{}. {}.\"\"\".format(tourism_spots, sys_cont)},\n",
    "            { \"role\": \"user\",  \"content\": f\"{user_cont}\"},\n",
    "        ],\n",
    "        stream=False,\n",
    "    )\n",
    "    generated_plan = completion.choices[0].message\n",
    "\n",
    "    return generated_plan"
   ]
  },
  {
   "cell_type": "code",
   "execution_count": 15,
   "metadata": {},
   "outputs": [],
   "source": [
    "improve_answer_ls = []\n",
    "user_cont = \"Make a plan for a trip in Korea.\"\n",
    "\n",
    "version_num = 4 # it can be changed 1-5\n",
    "improve_system_file = improve_system_v4 # it can be changed improve_system_v1 - v5\n",
    "\n",
    "improve_answer = generate_improve_travel_plan(kr_locations, improve_system_file, user_cont).content\n",
    "improve_answer_ls.append(improve_answer) # save the anwers"
   ]
  },
  {
   "cell_type": "code",
   "execution_count": 20,
   "metadata": {},
   "outputs": [],
   "source": [
    "with open(f\"./html/travel_plans_improve_v{version_num}.html\", \"w\", encoding=\"utf-8\") as file:\n",
    "    file.write(\"<html>\\n<head>\\n<title>Improve Travel Plans</title>\\n</head>\\n<body>\\n\")\n",
    "    j = 0\n",
    "    for i in improve_answer_ls:\n",
    "        \n",
    "        i_with_line_break = re.sub(r'\\n\\s*-', '<br> -', i)\n",
    "        i_with_line_break = re.sub(r'(\\d+)\\. ', r'\\n\\1. ', i_with_line_break)\n",
    "        \n",
    "        html_content = markdown2.markdown(i_with_line_break)\n",
    "        \n",
    "        file.write(f\"<h3>Improve System {version_num}</h3>\\n{improve_system_file}\\n\")\n",
    "        file.write(f\"<h2>Answer {version_num}</h2>\\n{html_content}\\n<hr>\\n\")\n",
    "        j += 1\n",
    "    file.write(\"</body>\\n</html>\")\n"
   ]
  }
 ],
 "metadata": {
  "kernelspec": {
   "display_name": "base",
   "language": "python",
   "name": "python3"
  },
  "language_info": {
   "codemirror_mode": {
    "name": "ipython",
    "version": 3
   },
   "file_extension": ".py",
   "mimetype": "text/x-python",
   "name": "python",
   "nbconvert_exporter": "python",
   "pygments_lexer": "ipython3",
   "version": "3.10.5"
  }
 },
 "nbformat": 4,
 "nbformat_minor": 2
}
